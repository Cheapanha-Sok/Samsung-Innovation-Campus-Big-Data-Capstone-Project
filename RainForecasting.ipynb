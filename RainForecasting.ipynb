{
 "cells": [
  {
   "cell_type": "code",
   "execution_count": 3,
   "metadata": {},
   "outputs": [
    {
     "name": "stdout",
     "output_type": "stream",
     "text": [
      "+--------------------+\n",
      "|               value|\n",
      "+--------------------+\n",
      "|         POSTGRES 12|\n",
      "|                    |\n",
      "|     IMPORT DATABASE|\n",
      "|=> psql -h localh...|\n",
      "|                    |\n",
      "|     EXPORT DATABASE|\n",
      "|                    |\n",
      "|           All Table|\n",
      "|-----------------...|\n",
      "|[Export schema an...|\n",
      "|[Export only data...|\n",
      "|                    |\n",
      "|      Specific Table|\n",
      "|-----------------...|\n",
      "|[Export schema an...|\n",
      "|[Export only data...|\n",
      "|                    |\n",
      "|-----------------...|\n",
      "|| For more inform...|\n",
      "|-----------------...|\n",
      "+--------------------+\n",
      "\n"
     ]
    }
   ],
   "source": [
    "from pyspark.sql import SparkSession\n",
    "\n",
    "# Initialize Spark session\n",
    "spark = SparkSession.builder \\\n",
    "    .appName(\"ReadHDFSData\") \\\n",
    "    .config(\"spark.hadoop.fs.defaultFS\", \"hdfs://namenode:9000\") \\\n",
    "    .getOrCreate()\n",
    "\n",
    "# Reading a file from HDFS\n",
    "hdfs_file_path = \"hdfs://172.21.0.2:9000/user/root/input/COMMAND.txt\"\n",
    "# Load the file as a DataFrame or RDD\n",
    "df = spark.read.text(hdfs_file_path)\n",
    "\n",
    "# Show the content\n",
    "df.show()\n",
    "\n",
    "# Stop the Spark session\n",
    "spark.stop()\n"
   ]
  }
 ],
 "metadata": {
  "kernelspec": {
   "display_name": "env",
   "language": "python",
   "name": "python3"
  },
  "language_info": {
   "codemirror_mode": {
    "name": "ipython",
    "version": 3
   },
   "file_extension": ".py",
   "mimetype": "text/x-python",
   "name": "python",
   "nbconvert_exporter": "python",
   "pygments_lexer": "ipython3",
   "version": "3.12.3"
  }
 },
 "nbformat": 4,
 "nbformat_minor": 2
}
