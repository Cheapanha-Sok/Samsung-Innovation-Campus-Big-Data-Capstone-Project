{
 "cells": [
  {
   "cell_type": "markdown",
   "metadata": {},
   "source": [
    "* Import necessary modules"
   ]
  },
  {
   "cell_type": "code",
   "execution_count": 2,
   "metadata": {},
   "outputs": [],
   "source": [
    "import glob\n",
    "from pyspark.sql import SparkSession\n",
    "import pandas as pd\n",
    "import warnings\n",
    "warnings.filterwarnings(\"ignore\")\n",
    "%matplotlib inline"
   ]
  },
  {
   "cell_type": "markdown",
   "metadata": {},
   "source": [
    "* Configure the base path"
   ]
  },
  {
   "cell_type": "code",
   "execution_count": 20,
   "metadata": {},
   "outputs": [],
   "source": [
    "base_path = 'hdfs://localhost:9000/user/hadoop/input'"
   ]
  },
  {
   "cell_type": "markdown",
   "metadata": {},
   "source": [
    "* Function for create spark session that connect to hadoop"
   ]
  },
  {
   "cell_type": "code",
   "execution_count": 5,
   "metadata": {},
   "outputs": [],
   "source": [
    "def create_spark_session():\n",
    "    \"\"\"\n",
    "    Creates and configures a SparkSession with minimal memory settings.\n",
    "    \"\"\"\n",
    "    return SparkSession.builder \\\n",
    "        .appName(\"Excel Processing\") \\\n",
    "        .config(\"spark.hadoop.fs.defaultFS\", \"hdfs://localhost:9000\") \\\n",
    "        .config(\"spark.jars.packages\", \"com.crealytics:spark-excel_2.12:0.13.7\") \\\n",
    "        .config(\"spark.driver.memory\", \"2g\") \\\n",
    "        .config(\"spark.executor.memory\", \"2g\") \\\n",
    "        .config(\"spark.sql.shuffle.partitions\", \"2\") \\\n",
    "        .config(\"spark.driver.maxResultSize\", \"1g\") \\\n",
    "        .config(\"spark.memory.fraction\", \"0.6\") \\\n",
    "        .config(\"spark.memory.storageFraction\", \"0.5\") \\\n",
    "        .config(\"spark.executor.instances\", \"2\") \\\n",
    "        .getOrCreate()"
   ]
  },
  {
   "cell_type": "markdown",
   "metadata": {},
   "source": [
    "* Create a function to load data from hadoop"
   ]
  },
  {
   "cell_type": "code",
   "execution_count": 34,
   "metadata": {},
   "outputs": [],
   "source": [
    "def load_excel_files(spark, file_path):\n",
    "    \"\"\"\n",
    "    Load all Excel files from the given base path.\n",
    "    \"\"\"\n",
    "    df = spark.read.format(\"com.crealytics.spark.excel\") \\\n",
    "        .option(\"header\", \"true\") \\\n",
    "        .option(\"dataAddress\", \"'RUA Data'!A1\") \\\n",
    "        .option(\"maxRowsInMemory\", 1000) \\\n",
    "        .option(\"treatEmptyValuesAsNulls\", \"true\") \\\n",
    "        .load(file_path)\n",
    "    return df"
   ]
  },
  {
   "cell_type": "markdown",
   "metadata": {},
   "source": [
    "* Test read data as xlsx file"
   ]
  },
  {
   "cell_type": "code",
   "execution_count": 35,
   "metadata": {},
   "outputs": [
    {
     "name": "stdout",
     "output_type": "stream",
     "text": [
      "+-----------------------+--------+--------+--------------------+--------------------+---------+--------------------+------+\n",
      "|CE SAIN Weather Station|     _c1|     _c2|                 _c3|                 _c4|      _c5|                 _c6|   _c7|\n",
      "+-----------------------+--------+--------+--------------------+--------------------+---------+--------------------+------+\n",
      "|   Export timeframe:...|    NULL|    NULL|                NULL|                NULL|     NULL|                NULL|  NULL|\n",
      "|   Location: Royal U...|    NULL|    NULL|                NULL|                NULL|     NULL|                NULL|  NULL|\n",
      "|                   NULL|    NULL|    NULL|                NULL|                NULL|     NULL|                NULL|  NULL|\n",
      "|                  Line#|    Date|    Time|Water Content (m3...|Solar Radiation (...|Rain (mm)|Temperature (Celc...|RH (%)|\n",
      "|                      1|21/06/01|00:00:00|              0.2942|                   1|        0|               27.68|  89.6|\n",
      "+-----------------------+--------+--------+--------------------+--------------------+---------+--------------------+------+\n",
      "only showing top 5 rows\n",
      "\n"
     ]
    }
   ],
   "source": [
    "spark = create_spark_session()\n",
    "hdfs_path = f'{base_path}/jUNE-2021.xlsx'\n",
    "df = load_excel_files(spark, hdfs_path)\n",
    "df.show(5)"
   ]
  },
  {
   "cell_type": "markdown",
   "metadata": {},
   "source": [
    "* Get all datanode that we work with"
   ]
  },
  {
   "cell_type": "code",
   "execution_count": 25,
   "metadata": {},
   "outputs": [
    {
     "name": "stdout",
     "output_type": "stream",
     "text": [
      "['hdfs://localhost:9000/user/hadoop/input/APRIL-2021.xlsx', 'hdfs://localhost:9000/user/hadoop/input/APRIL-2022.xlsx', 'hdfs://localhost:9000/user/hadoop/input/AUGUST-2021.xlsx', 'hdfs://localhost:9000/user/hadoop/input/DECEMBER-2020.xlsx', 'hdfs://localhost:9000/user/hadoop/input/DECEMBER-2021.xlsx', 'hdfs://localhost:9000/user/hadoop/input/FEBRUARY-2021.xlsx', 'hdfs://localhost:9000/user/hadoop/input/FEBRUARY-2022.xlsx', 'hdfs://localhost:9000/user/hadoop/input/JANUARY-2021.xlsx', 'hdfs://localhost:9000/user/hadoop/input/JANUARY-2022.xlsx', 'hdfs://localhost:9000/user/hadoop/input/JULY-2021.xlsx', 'hdfs://localhost:9000/user/hadoop/input/MARCH-2021.xlsx', 'hdfs://localhost:9000/user/hadoop/input/MARCH-2022.xlsx', 'hdfs://localhost:9000/user/hadoop/input/MAY-2021.xlsx', 'hdfs://localhost:9000/user/hadoop/input/NOVEMBER-2020.xlsx', 'hdfs://localhost:9000/user/hadoop/input/NOVEMBER-2021.xlsx', 'hdfs://localhost:9000/user/hadoop/input/OCTOBER-2020.xlsx', 'hdfs://localhost:9000/user/hadoop/input/OCTOBER-2021.xlsx', 'hdfs://localhost:9000/user/hadoop/input/SEPTEMBER-2020.xlsx', 'hdfs://localhost:9000/user/hadoop/input/SEPTEMBER-2021.xlsx', 'hdfs://localhost:9000/user/hadoop/input/jUNE-2021.xlsx']\n"
     ]
    }
   ],
   "source": [
    "file_paths = [f\"{base_path}/{filename}\" for filename in [\n",
    "    \"APRIL-2021.xlsx\", \"APRIL-2022.xlsx\", \"AUGUST-2021.xlsx\",\n",
    "    \"DECEMBER-2020.xlsx\", \"DECEMBER-2021.xlsx\", \"FEBRUARY-2021.xlsx\",\n",
    "    \"FEBRUARY-2022.xlsx\", \"JANUARY-2021.xlsx\", \"JANUARY-2022.xlsx\",\n",
    "    \"JULY-2021.xlsx\", \"MARCH-2021.xlsx\", \"MARCH-2022.xlsx\",\n",
    "    \"MAY-2021.xlsx\", \"NOVEMBER-2020.xlsx\", \"NOVEMBER-2021.xlsx\",\n",
    "    \"OCTOBER-2020.xlsx\", \"OCTOBER-2021.xlsx\", \"SEPTEMBER-2020.xlsx\",\n",
    "    \"SEPTEMBER-2021.xlsx\", \"jUNE-2021.xlsx\"\n",
    "]]\n",
    "print(file_paths)\n"
   ]
  },
  {
   "cell_type": "code",
   "execution_count": 36,
   "metadata": {},
   "outputs": [
    {
     "name": "stdout",
     "output_type": "stream",
     "text": [
      "Reading file: hdfs://localhost:9000/user/hadoop/input/APRIL-2021.xlsx\n",
      "Reading file: hdfs://localhost:9000/user/hadoop/input/APRIL-2022.xlsx\n",
      "Reading file: hdfs://localhost:9000/user/hadoop/input/AUGUST-2021.xlsx\n",
      "Reading file: hdfs://localhost:9000/user/hadoop/input/DECEMBER-2020.xlsx\n",
      "Reading file: hdfs://localhost:9000/user/hadoop/input/DECEMBER-2021.xlsx\n",
      "Reading file: hdfs://localhost:9000/user/hadoop/input/FEBRUARY-2021.xlsx\n",
      "Reading file: hdfs://localhost:9000/user/hadoop/input/FEBRUARY-2022.xlsx\n",
      "Reading file: hdfs://localhost:9000/user/hadoop/input/JANUARY-2021.xlsx\n",
      "Reading file: hdfs://localhost:9000/user/hadoop/input/JANUARY-2022.xlsx\n",
      "Reading file: hdfs://localhost:9000/user/hadoop/input/JULY-2021.xlsx\n",
      "Reading file: hdfs://localhost:9000/user/hadoop/input/MARCH-2021.xlsx\n",
      "Reading file: hdfs://localhost:9000/user/hadoop/input/MARCH-2022.xlsx\n",
      "Reading file: hdfs://localhost:9000/user/hadoop/input/MAY-2021.xlsx\n",
      "Reading file: hdfs://localhost:9000/user/hadoop/input/NOVEMBER-2020.xlsx\n",
      "Reading file: hdfs://localhost:9000/user/hadoop/input/NOVEMBER-2021.xlsx\n",
      "Reading file: hdfs://localhost:9000/user/hadoop/input/OCTOBER-2020.xlsx\n",
      "Reading file: hdfs://localhost:9000/user/hadoop/input/OCTOBER-2021.xlsx\n",
      "Reading file: hdfs://localhost:9000/user/hadoop/input/SEPTEMBER-2020.xlsx\n",
      "Reading file: hdfs://localhost:9000/user/hadoop/input/SEPTEMBER-2021.xlsx\n",
      "Reading file: hdfs://localhost:9000/user/hadoop/input/jUNE-2021.xlsx\n",
      "Merged dataset saved to MERGED_PHNOM_PENH_DATASET.xlsx\n"
     ]
    }
   ],
   "source": [
    "from pyspark.sql import SparkSession\n",
    "import pandas as pd\n",
    "\n",
    "\n",
    "# Initialize list for Pandas DataFrames\n",
    "excl_list = []\n",
    "\n",
    "# Read Excel files\n",
    "for file in file_paths:\n",
    "    try:\n",
    "        print(f\"Reading file: {file}\")\n",
    "        # Read the file into a Spark DataFrame\n",
    "        spark_df = load_excel_files(spark=spark, file_path=file)\n",
    "\n",
    "        # Convert Spark DataFrame to Pandas DataFrame\n",
    "        excl_list.append(spark_df.toPandas())\n",
    "    except Exception as e:\n",
    "        print(f\"Error reading {file}: {e}\")\n",
    "\n",
    "# Concatenate all Pandas DataFrames and export to Excel\n",
    "if excl_list:\n",
    "    excl_merged = pd.concat(excl_list, ignore_index=True)\n",
    "    excl_merged.to_csv(\"MERGED_PHNOM_PENH_DATASET.csv\", index=False)\n",
    "    print(\"Merged dataset saved to MERGED_PHNOM_PENH_DATASET.xlsx\")\n",
    "else:\n",
    "    print(\"No valid files to merge.\")\n"
   ]
  }
 ],
 "metadata": {
  "kernelspec": {
   "display_name": "env",
   "language": "python",
   "name": "python3"
  },
  "language_info": {
   "codemirror_mode": {
    "name": "ipython",
    "version": 3
   },
   "file_extension": ".py",
   "mimetype": "text/x-python",
   "name": "python",
   "nbconvert_exporter": "python",
   "pygments_lexer": "ipython3",
   "version": "3.12.3"
  }
 },
 "nbformat": 4,
 "nbformat_minor": 2
}
